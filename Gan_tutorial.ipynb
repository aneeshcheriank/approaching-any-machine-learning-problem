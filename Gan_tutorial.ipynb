{
  "cells": [
    {
      "cell_type": "markdown",
      "metadata": {
        "id": "view-in-github",
        "colab_type": "text"
      },
      "source": [
        "<a href=\"https://colab.research.google.com/github/aneeshcheriank/approaching-any-machine-learning-problem/blob/main/Gan_tutorial.ipynb\" target=\"_parent\"><img src=\"https://colab.research.google.com/assets/colab-badge.svg\" alt=\"Open In Colab\"/></a>"
      ]
    },
    {
      "cell_type": "markdown",
      "metadata": {
        "id": "FiqAPFgIMeNN"
      },
      "source": [
        "[URL of this notebook](https://www.tensorflow.org/tutorials/generative/dcgan)"
      ]
    },
    {
      "cell_type": "code",
      "execution_count": null,
      "metadata": {
        "id": "4Gx7PufI4RNw"
      },
      "outputs": [],
      "source": [
        "import tensorflow as tf\n",
        "import glob # check\n",
        "import imageio # check\n",
        "import matplotlib.pyplot as plt\n",
        "import numpy as np\n",
        "import os\n",
        "import PIL\n",
        "\n",
        "from tensorflow.keras import layers\n",
        "import time\n",
        "from IPython import display"
      ]
    },
    {
      "cell_type": "code",
      "execution_count": null,
      "metadata": {
        "id": "2uVWatLP451g"
      },
      "outputs": [],
      "source": [
        "(x_train, y_train), (x_test, y_test) = tf.keras.datasets.mnist.load_data()\n",
        "x_train = ((x_train - 127.5)/127.5)\\\n",
        ".reshape((-1, 28, 28, 1))\n",
        "\n",
        "BUFFER_SIZE = 6000\n",
        "BATCH_SIZE = 256\n",
        "\n",
        "train_dataset = tf.data.Dataset.from_tensor_slices(x_train)\\\n",
        ".shuffle(BUFFER_SIZE)\\\n",
        ".batch(BATCH_SIZE)"
      ]
    },
    {
      "cell_type": "code",
      "execution_count": null,
      "metadata": {
        "id": "HY3apSlk-oW6"
      },
      "outputs": [],
      "source": [
        "def make_generator_model():\n",
        "  model = tf.keras.Sequential([\n",
        "     layers.Dense(7*7*256, use_bias=False, input_shape=(100, )),\n",
        "     layers.BatchNormalization(),\n",
        "     layers.LeakyReLU(),\n",
        "\n",
        "     layers.Reshape((7, 7, 256)),\n",
        "\n",
        "     layers.Convolution2DTranspose(128, (5, 5), strides=(1, 1), padding='same', use_bias=False),\n",
        "     layers.BatchNormalization(),\n",
        "     layers.LeakyReLU(),\n",
        "     # output size (None, 7, 7, 128)\n",
        "\n",
        "     layers.Convolution2DTranspose(64, (5, 5), strides=(2, 2), padding='same', use_bias=False),\n",
        "     layers.BatchNormalization(),\n",
        "     layers.LeakyReLU(),\n",
        "     # output size (None, 14, 14, 64)\n",
        "\n",
        "     layers.Convolution2DTranspose(1, (5, 5), strides=(2, 2), padding='same', use_bias=False, activation='tanh')\n",
        "  ])\n",
        "\n",
        "  return model"
      ]
    },
    {
      "cell_type": "code",
      "execution_count": null,
      "metadata": {
        "colab": {
          "base_uri": "https://localhost:8080/",
          "height": 282
        },
        "id": "HJMviDI4Cn0d",
        "outputId": "de2d494e-597c-4045-9261-522f9f95610e"
      },
      "outputs": [
        {
          "data": {
            "text/plain": [
              "<matplotlib.image.AxesImage at 0x7ff0ff76cc10>"
            ]
          },
          "execution_count": 14,
          "metadata": {},
          "output_type": "execute_result"
        },
        {
          "data": {
            "image/png": "[encoded data removed]",
            "text/plain": [
              "<Figure size 432x288 with 1 Axes>"
            ]
          },
          "metadata": {},
          "output_type": "display_data"
        }
      ],
      "source": [
        "generator = make_generator_model()\n",
        "noise = tf.random.normal([1, 100])\n",
        "generator_image = generator(noise, training=False)\n",
        "\n",
        "plt.imshow(\n",
        "    np.squeeze(generator_image), cmap='gray'\n",
        ")"
      ]
    },
    {
      "cell_type": "code",
      "execution_count": null,
      "metadata": {
        "id": "jSVo5-zeDC6B"
      },
      "outputs": [],
      "source": [
        "def make_discriminator_model():\n",
        "  model = tf.keras.Sequential([\n",
        "      layers.Conv2D(64, (5, 5), strides=(2, 2), padding='same', input_shape=[28, 28, 1]),\n",
        "      layers.LeakyReLU(),\n",
        "      layers.Dropout(0.3),\n",
        "\n",
        "      layers.Conv2D(128, (5, 5), strides=(2, 2), padding='same'),\n",
        "      layers.LeakyReLU(),\n",
        "      layers.Dropout(0.3),\n",
        "\n",
        "      layers.Flatten(),\n",
        "      layers.Dense(1)\n",
        "  ])\n",
        "\n",
        "  return model"
      ]
    },
    {
      "cell_type": "code",
      "execution_count": null,
      "metadata": {
        "colab": {
          "base_uri": "https://localhost:8080/"
        },
        "id": "sXyktYSqEaez",
        "outputId": "1b677e49-4bd1-4445-c39a-bef0dae8130b"
      },
      "outputs": [
        {
          "name": "stdout",
          "output_type": "stream",
          "text": [
            "tf.Tensor([[0.00096873]], shape=(1, 1), dtype=float32)\n"
          ]
        }
      ],
      "source": [
        "discriminator = make_discriminator_model()\n",
        "decision = discriminator(generator_image)\n",
        "print(decision)"
      ]
    },
    {
      "cell_type": "code",
      "execution_count": null,
      "metadata": {
        "id": "Tq09TJRhEnfk"
      },
      "outputs": [],
      "source": [
        "# define the optimizer\n",
        "# defind the loss\n",
        "corss_entropy = tf.keras.losses.BinaryCrossentropy(from_logits=True)\n",
        "\n",
        "def discriminator_loss(real_output, fake_output):\n",
        "  real_loss = corss_entropy(tf.ones_like(real_output), real_output)\n",
        "  fake_loss = cross_entropy(tf.zeors_like(fake_output), fake_output)\n",
        "  total_loss = real_loss + fake_loss\n",
        "  return total_loss\n",
        "  # why should we do this? should we do the traditional way?\n",
        "\n",
        "# generator loss\n",
        "def generator_loss(fake_output):\n",
        "  return cross_entropy(tf.ones_like(fake_output), fake_output)"
      ]
    },
    {
      "cell_type": "markdown",
      "metadata": {
        "id": "29bCpIZEL-5d"
      },
      "source": [
        "- need to optimize the discriminator and the genetrator seperately\n",
        "  - training is seperate"
      ]
    },
    {
      "cell_type": "code",
      "execution_count": null,
      "metadata": {
        "id": "nfFXcm-rL5V7"
      },
      "outputs": [],
      "source": [
        "generator_optimizer = tf.keras.optimizers.Adam(learning_rate = 1e-4)\n",
        "discriminator_optimizer = tf.keras.optimizers.Adam(learning_rate = 1e-4)"
      ]
    },
    {
      "cell_type": "code",
      "execution_count": null,
      "metadata": {
        "id": "CuiIf1o1MaWZ"
      },
      "outputs": [],
      "source": [
        "## Save Checkpoints\n",
        "checkpoint_dir = './training_checkpoints'\n",
        "checkpoint_prefix = os.path.join(checkpoint_dir, \"ckpt\")\n",
        "checkpoint = tf.train.Checkpoint(generator_optimizer=generator_optimizer,\n",
        "                                 discriminator_optimizer=discriminator_optimizer,\n",
        "                                 generator=generator,\n",
        "                                 discriminator=discriminator)"
      ]
    },
    {
      "cell_type": "markdown",
      "metadata": {
        "id": "g8s2AZWbNAia"
      },
      "source": [
        "## Define the training loop"
      ]
    },
    {
      "cell_type": "code",
      "execution_count": null,
      "metadata": {
        "id": "bPZeH3PNMZum"
      },
      "outputs": [],
      "source": [
        "EPOCHS = 50\n",
        "noise_dim = 100\n",
        "num_examples_to_generate = 16\n",
        "\n",
        "# You will reuse this seed overtime (so it's easier)\n",
        "# to visualize progress in the animated GIF)\n",
        "seed = tf.random.normal([num_examples_to_generate, noise_dim])"
      ]
    },
    {
      "cell_type": "code",
      "execution_count": null,
      "metadata": {
        "id": "0Si8NwghNVPn"
      },
      "outputs": [],
      "source": [
        "@tf.function\n",
        "def train_step(images):\n",
        "  noise = tf.random.normal([BATCH_SIZE, noise_dim])\n",
        "\n",
        "  with tf.GradientTape() as gen_tape, tf.GradientTape as disc_tape:\n",
        "    generated_images = generator(noise, training=True)\n",
        "    \n",
        "    real_output = discriminator(images, training=True)\n",
        "    fake_output = discriminator(generated_images, training=True)\n",
        "\n",
        "    gen_loss = generator_loss(fake_output)\n",
        "    disc_losses = discriminator_loss(real_output, fake_output)\n",
        "\n",
        "  gradients_of_generator = gen_tape.gradient(gen_loss, generator.trainable_variables)\n",
        "  gradients_of_discriminator = gen_tape.gradient(disc_loss, discriminator.trainable_variables)\n",
        "\n",
        "  generator_optimzer.apply_gradients(zip(gradient_of_generator, generator.trainable_variables))\n",
        "  discriminator_optimzer.apply_gradients(zip(gradient_of_discriminator, discriminator.trainable_variables))"
      ]
    },
    {
      "cell_type": "code",
      "execution_count": null,
      "metadata": {
        "colab": {
          "background_save": true
        },
        "id": "UkK1NmJBUHTF"
      },
      "outputs": [],
      "source": [
        "def train(dataset, epochs):\n",
        "  for epoch in range(epochs):\n",
        "    start = time.time()\n",
        "\n",
        "    for image_batch in dataset:\n",
        "      train_step(image_batch)\n",
        "\n",
        "    # producing display for the GIF as you go\n",
        "    display.clear_output(wait=True)\n",
        "    generate_and_save_images(generator, epoch+1, seed)\n",
        "\n",
        "    # save the model for every 15 epochs\n",
        "    if (epoch + 1)%15 == 0:\n",
        "      checkpoint.save(file_prefix = checkpoint_prefix)\n",
        "\n",
        "    print('Time for epoch {} is ')"
      ]
    }
  ],
  "metadata": {
    "colab": {
      "collapsed_sections": [],
      "name": "Gan_tutorial.ipynb",
      "provenance": [],
      "authorship_tag": "ABX9TyPLGGnQ7pKHxBGDHVQJeJdB",
      "include_colab_link": true
    },
    "kernelspec": {
      "display_name": "Python 3",
      "name": "python3"
    },
    "language_info": {
      "name": "python"
    }
  },
  "nbformat": 4,
  "nbformat_minor": 0
}