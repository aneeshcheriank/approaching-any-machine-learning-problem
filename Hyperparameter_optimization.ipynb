{
  "nbformat": 4,
  "nbformat_minor": 0,
  "metadata": {
    "colab": {
      "name": "Hyperparameter optimization.ipynb",
      "provenance": [],
      "collapsed_sections": [],
      "authorship_tag": "ABX9TyOccqO+F9z6m4DGPX9CsAR4",
      "include_colab_link": true
    },
    "kernelspec": {
      "name": "python3",
      "display_name": "Python 3"
    },
    "language_info": {
      "name": "python"
    }
  },
  "cells": [
    {
      "cell_type": "markdown",
      "metadata": {
        "id": "view-in-github",
        "colab_type": "text"
      },
      "source": [
        "<a href=\"https://colab.research.google.com/github/aneeshcheriank/approaching-any-machine-learning-problem/blob/main/Hyperparameter_optimization.ipynb\" target=\"_parent\"><img src=\"https://colab.research.google.com/assets/colab-badge.svg\" alt=\"Open In Colab\"/></a>"
      ]
    },
    {
      "cell_type": "markdown",
      "source": [
        "# Hyperparameter Optimization"
      ],
      "metadata": {
        "id": "TvEvsPQMyhz3"
      }
    },
    {
      "cell_type": "code",
      "execution_count": null,
      "metadata": {
        "id": "7LSuYDdCyFEj"
      },
      "outputs": [],
      "source": [
        "# define the best accuracy to be 0\n",
        "# if you choose loss as a metric,\n",
        "# you can make best loss to be inf (np.inf)\n",
        "best_accuracy = 0\n",
        "best_parameters = {\n",
        "    'a': 0,\n",
        "    'b': 0,\n",
        "    'c': 0\n",
        "}\n",
        "\n",
        "# loop over all the values a, b & c\n",
        "for a in range(1, 11):\n",
        "  for b in range(1. 11):\n",
        "    for c in range(1, 11):\n",
        "      # initalize the model with current paramters\n",
        "      model = MODEL(a, b, c)\n",
        "      # fit the model\n",
        "      model.fit(training_data)\n",
        "      # make predictions\n",
        "      preds = model.predict(validation_data)\n",
        "      # calculate accuracy\n",
        "      accuracy = metircs.accuracy_score(targets, preds)\n",
        "      # save params if the current accuracy is greater than best accuracy\n",
        "      if accuracy > best_accuracy:\n",
        "        best_accuracy = accuracy\n",
        "        best_parameters['a'] = a\n",
        "        best_parameters['b'] = b\n",
        "        best_parameters['c'] = c"
      ]
    },
    {
      "cell_type": "markdown",
      "source": [
        "## RandomForest Hyperparameter list"
      ],
      "metadata": {
        "id": "9KKWdNU39MhV"
      }
    },
    {
      "cell_type": "code",
      "source": [
        "RandomForestClassifier(\n",
        "  n_estimators=100,\n",
        "  criterion='gini',\n",
        "  max_depth=None,\n",
        "  min_samples_split=2,\n",
        "  min_samples_leaf=1,\n",
        "  min_weight_fraction_leaf=0.0,\n",
        "  max_features='auto',\n",
        "  max_leaf_nodes=None,\n",
        "  min_impurity_decrease=0.0,\n",
        "  min_impurity_split=None,\n",
        "  bootstrap=True,\n",
        "  oob_score=False,\n",
        "  n_jobs=None,\n",
        "  random_state=None,\n",
        "  verbose=0,\n",
        "  warm_start=False,\n",
        "  class_weight=None,\n",
        "  ccp_alpha=0.0,\n",
        "  max_samples=None,\n",
        ")"
      ],
      "metadata": {
        "id": "dLOm4o1Q9J9b"
      },
      "execution_count": null,
      "outputs": []
    },
    {
      "cell_type": "markdown",
      "source": [
        "- grid search\n",
        "  - GridSearchCV"
      ],
      "metadata": {
        "id": "cTyYy0cp9gLG"
      }
    },
    {
      "cell_type": "code",
      "source": [
        "# rf_grid search.py\n",
        "import numpy as np\n",
        "import pandas as pd\n",
        "\n",
        "from sklearn import ensembles\n",
        "from sklearn import metrics\n",
        "from sklearn import model_selection\n",
        "\n",
        "if __name__ == '__main__':\n",
        "  # read the training data\n",
        "  df = pd.read_csv('../input/mobile_train.csv')\n",
        "\n",
        "  # features are all column without price range\n",
        "  # notice that there is no id column in this dataset\n",
        "  X = df.drop('price_range', axis=1).values\n",
        "  # and the targets\n",
        "  y = df.price_range.values\n",
        "\n",
        "  # define the model here\n",
        "  # i am using random forest with n_jobs=-1\n",
        "  # n_jobs=-1 => use all cores\n",
        "  classifier = ensemble.RandomForestClassifier(n_jobs=-1)\n",
        "\n",
        "  # define a grid of parameters\n",
        "  # this can be a dictionary or a list of\n",
        "  # dictionaries\n",
        "  param_grid = {\n",
        "    \"n_estimators\": [100, 200, 250, 300, 400, 500],\n",
        "    \"max_depth\": [1, 2, 5, 7, 11, 15],\n",
        "    \"criterion\": [\"gini\", \"entropy\"]\n",
        "  }\n",
        "\n",
        "  # initialize grid search\n",
        "  # estimator is the model that we have defined\n",
        "  # param_grid is the grid of parameters\n",
        "  # we use accuracy as our metric. you can define your own\n",
        "  # higher value of verbose implies a lot of details are printed\n",
        "  # cv=5 means that we are using 5 fold cv (not stratified)\n",
        "  model = model_selection.GridSearchCV(\n",
        "    estimator=classifier,\n",
        "    param_grid=param_grid,\n",
        "    scoring=\"accuracy\",\n",
        "    verbose=10,\n",
        "    n_jobs=1,\n",
        "    cv=5\n",
        "  )\n",
        "\n",
        "  # fit the model and extract best score\n",
        "  model.fit(X, y)\n",
        "  print(f\"Best score: {model.best_score_}\")\n",
        "\n",
        "  print(\"Best parameters set:\")\n",
        "  best_parameters = model.best_estimator_.get_params()\n",
        "  for param_name in sorted(param_grid.keys()):\n",
        "    print(f\"\\t{param_name}: {best_parameters[param_name]}\")\n",
        "═════════════════════════════════════════════════════════════════"
      ],
      "metadata": {
        "id": "B6NqFNcwAPW8"
      },
      "execution_count": null,
      "outputs": []
    }
  ]
}