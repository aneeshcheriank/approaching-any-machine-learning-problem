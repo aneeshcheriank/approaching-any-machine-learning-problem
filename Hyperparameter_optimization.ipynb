{
  "nbformat": 4,
  "nbformat_minor": 0,
  "metadata": {
    "colab": {
      "name": "Hyperparameter optimization.ipynb",
      "provenance": [],
      "collapsed_sections": [],
      "authorship_tag": "ABX9TyMogEly2a2xdSmT2HzTLAw9",
      "include_colab_link": true
    },
    "kernelspec": {
      "name": "python3",
      "display_name": "Python 3"
    },
    "language_info": {
      "name": "python"
    }
  },
  "cells": [
    {
      "cell_type": "markdown",
      "metadata": {
        "id": "view-in-github",
        "colab_type": "text"
      },
      "source": [
        "<a href=\"https://colab.research.google.com/github/aneeshcheriank/approaching-any-machine-learning-problem/blob/main/Hyperparameter_optimization.ipynb\" target=\"_parent\"><img src=\"https://colab.research.google.com/assets/colab-badge.svg\" alt=\"Open In Colab\"/></a>"
      ]
    },
    {
      "cell_type": "markdown",
      "source": [
        "# Hyperparameter Optimization"
      ],
      "metadata": {
        "id": "TvEvsPQMyhz3"
      }
    },
    {
      "cell_type": "code",
      "execution_count": null,
      "metadata": {
        "id": "7LSuYDdCyFEj"
      },
      "outputs": [],
      "source": [
        "# define the best accuracy to be 0\n",
        "# if you choose loss as a metric,\n",
        "# you can make best loss to be inf (np.inf)\n",
        "best_accuracy = 0\n",
        "best_parameters = {\n",
        "    'a': 0,\n",
        "    'b': 0,\n",
        "    'c': 0\n",
        "}\n",
        "\n",
        "# loop over all the values a, b & c\n",
        "for a in range(1, 11):\n",
        "  for b in range(1. 11):\n",
        "    for c in range(1, 11):\n",
        "      # initalize the model with current paramters"
      ]
    }
  ]
}