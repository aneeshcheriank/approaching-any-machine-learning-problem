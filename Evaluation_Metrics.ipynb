{
  "nbformat": 4,
  "nbformat_minor": 0,
  "metadata": {
    "colab": {
      "name": "Evaluation Metrics.ipynb",
      "provenance": [],
      "authorship_tag": "ABX9TyMlIivBe1K+iEFVDflrjNUD",
      "include_colab_link": true
    },
    "kernelspec": {
      "name": "python3",
      "display_name": "Python 3"
    },
    "language_info": {
      "name": "python"
    }
  },
  "cells": [
    {
      "cell_type": "markdown",
      "metadata": {
        "id": "view-in-github",
        "colab_type": "text"
      },
      "source": [
        "<a href=\"https://colab.research.google.com/github/aneeshcheriank/approaching-any-machine-learning-problem/blob/main/Evaluation_Metrics.ipynb\" target=\"_parent\"><img src=\"https://colab.research.google.com/assets/colab-badge.svg\" alt=\"Open In Colab\"/></a>"
      ]
    },
    {
      "cell_type": "markdown",
      "source": [
        "# Evaluation Metrics\n",
        "- diff types of evaluation metrics\n",
        "## Classification\n",
        "  - Accurcy\n",
        "  - Precision\n",
        "  - Recall\n",
        "  - F1 Score\n",
        "  - Area Under ROC (Reciver Operating Characterestic)\n",
        "  - Log loss\n",
        "  - precision at K (P@k)\n",
        "  - Average precision at K (AP@k)\n",
        "  - Mean average precision at k (MAP@k)\n",
        "## Regression\n",
        "  - Mean Absolute Error\n",
        "  - Mean Squared Error\n",
        "  - Root Mean Squared Error\n",
        "  - Root Mean Squared Logarithamic Error\n",
        "  - Mean Percentage Error\n",
        "  - Mean Absolute Percentage Error\n",
        "  - R<sup>2</sup>\n",
        "- user created evaluation metrics\n",
        "- when to use which metrics\n",
        "  - depends on the target variable\n",
        "\n",
        "- let think we have a binary classification problem\n",
        "- images of chest x-ray we have to predict does the image is a collapsed lung (pneumothrax)\n",
        "- we have 100 images of non-pneumotrax images and 100 images of pneumotrax images\n",
        "- <b>when we have equal positive and negative sets we use Accuracy, preciesion, recall, and f1</b>"
      ],
      "metadata": {
        "id": "XoH6JLZVWko5"
      }
    },
    {
      "cell_type": "code",
      "execution_count": null,
      "metadata": {
        "id": "osKzPz97WW8B"
      },
      "outputs": [],
      "source": [
        ""
      ]
    }
  ]
}