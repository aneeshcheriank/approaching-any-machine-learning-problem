{
  "nbformat": 4,
  "nbformat_minor": 0,
  "metadata": {
    "colab": {
      "name": "Evaluation Metrics.ipynb",
      "provenance": [],
      "authorship_tag": "ABX9TyPmk4MTEbPqBqnKywova6BW",
      "include_colab_link": true
    },
    "kernelspec": {
      "name": "python3",
      "display_name": "Python 3"
    },
    "language_info": {
      "name": "python"
    }
  },
  "cells": [
    {
      "cell_type": "markdown",
      "metadata": {
        "id": "view-in-github",
        "colab_type": "text"
      },
      "source": [
        "<a href=\"https://colab.research.google.com/github/aneeshcheriank/approaching-any-machine-learning-problem/blob/main/Evaluation_Metrics.ipynb\" target=\"_parent\"><img src=\"https://colab.research.google.com/assets/colab-badge.svg\" alt=\"Open In Colab\"/></a>"
      ]
    },
    {
      "cell_type": "markdown",
      "source": [
        "# Evaluation Metrics\n",
        "- diff types of evaluation metrics\n",
        "## Classification\n",
        "  - Accurcy\n",
        "  - Precision\n",
        "  - Recall\n",
        "  - F1 Score\n",
        "  - Area Under ROC (Reciver Operating Characterestic)\n",
        "  - Log loss\n",
        "  - precision at K (P@k)\n",
        "  - Average precision at K (AP@k)\n",
        "  - Mean average precision at k (MAP@k)\n",
        "## Regression\n",
        "  - Mean Absolute Error\n",
        "  - Mean Squared Error\n",
        "  - Root Mean Squared Error\n",
        "  - Root Mean Squared Logarithamic Error\n",
        "  - Mean Percentage Error\n",
        "  - Mean Absolute Percentage Error\n",
        "  - R<sup>2</sup>\n",
        "- user created evaluation metrics\n",
        "- when to use which metrics\n",
        "  - depends on the target variable\n",
        "\n",
        "- let think we have a binary classification problem\n",
        "- images of chest x-ray we have to predict does the image is a collapsed lung (pneumothrax)\n",
        "- we have 100 images of non-pneumotrax images and 100 images of pneumotrax images\n",
        "- <b>when we have equal positive and negative sets we use Accuracy, preciesion, recall, and f1</b>"
      ],
      "metadata": {
        "id": "XoH6JLZVWko5"
      }
    },
    {
      "cell_type": "markdown",
      "source": [
        "## Accurcay"
      ],
      "metadata": {
        "id": "GhcCfNlshvbc"
      }
    },
    {
      "cell_type": "code",
      "execution_count": null,
      "metadata": {
        "id": "osKzPz97WW8B"
      },
      "outputs": [],
      "source": [
        "def accuracy(y_true, y_pred):\n",
        "  '''\n",
        "  Function to calculate accuracy\n",
        "  y_ture: list of true values\n",
        "  y_pred: list of predicted values\n",
        "  return: accuracy score\n",
        "  '''\n",
        "\n",
        "  correct_counter = 0\n",
        "  for yt, yp in zip(y_true, y_pred):\n",
        "    if yt == yp:\n",
        "      correct_counter += 1\n",
        "\n",
        "  reutn correct_counter/len(y_true)"
      ]
    },
    {
      "cell_type": "markdown",
      "source": [
        " ## Problems\n",
        " - sked data\n",
        "  - 90% of data belongs to one category"
      ],
      "metadata": {
        "id": "QPfdqyRtipLM"
      }
    },
    {
      "cell_type": "markdown",
      "source": [
        "## Precision\n",
        "![image.png](data:image/png;base64,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)"
      ],
      "metadata": {
        "id": "D-26MQjAjLCa"
      }
    },
    {
      "cell_type": "markdown",
      "source": [
        "- accurcy = (tp + tn) / (tp+fp+tn+fn)\n",
        "  - (100+50)/(100+10+50+5)\n",
        "- precision = tp / (tp+fp)\n",
        "  - 100/(100+10)\n",
        "  - out of the prdicted positive how many are correct\n",
        "- recall = tp/(tp+fn)\n",
        "  - 100/(100+5)\n",
        "  - out of the correct positive how many are predicted"
      ],
      "metadata": {
        "id": "kyP3seA_tPqq"
      }
    },
    {
      "cell_type": "markdown",
      "source": [
        "- most of the models predict a probability\n",
        "- it chooses a threshold 0.5\n",
        "- not always ideal, depending on the threshold the precision and recall can change drastically\n"
      ],
      "metadata": {
        "id": "LpIiio2E50KK"
      }
    },
    {
      "cell_type": "code",
      "source": [
        "y_true = [\n",
        "    0, 0, 0, 1, 0, 0, 0, 0, 0, 0,\n",
        "    1, 0, 0, 0, 0, 0, 0, 0, 1, 0 \n",
        "]\n",
        "\n",
        "y_pred = [\n",
        "    0.02638412, 0.11114267, 0.31620708, 0.0490937, 0.0191491, 0.17554844,\n",
        "    0.15952202, 0.03819563, 0.11639273, 0.079377, 0.08584789, 0.39095342,\n",
        "    0.27259048, 0.03447096, 0.04644807, 0.03543574, 0.18521942, 0.05934905,\n",
        "    0.61977213, 0.33056815\n",
        "]\n",
        "\n",
        "precisions = []\n",
        "recalls = []\n",
        "\n",
        "thresholds =  [\n",
        "    0.0490937 , 0.05934905, 0.079377, 0.08584789, 0.11114267, 0.11639273,\n",
        "    0.15952202, 0.17554844, 0.18521942, 0.27259048, 0.31620708, 0.33056815,\n",
        "    0.39095342, 0.61977213\n",
        "]"
      ],
      "metadata": {
        "id": "t93rdX1Li1_a"
      },
      "execution_count": 20,
      "outputs": []
    },
    {
      "cell_type": "code",
      "source": [
        "def confusion_metrics(y_true, y_pred):\n",
        "\n",
        "  tp = 0\n",
        "  tn = 0\n",
        "  fp = 0\n",
        "  fn = 0\n",
        "\n",
        "  for y_t, y_p in zip(y_true, y_pred):\n",
        "    \n",
        "    if y_p == 1: # \n",
        "      if y_t == y_p:\n",
        "        tp += 1\n",
        "      else:\n",
        "        fp += 1\n",
        "\n",
        "    if y_p == 0:\n",
        "      if y_t == y_p:\n",
        "        tn += 1\n",
        "      else:\n",
        "        fn += 1\n",
        "\n",
        "  return (tp, tn, fp, fn)\n",
        "\n",
        "def precision(y_true, y_pred):\n",
        "  tp, tn, fp, fn = confusion_metrics(y_true, y_pred)\n",
        "  return tp /(tp + fp)\n",
        "\n",
        "def recall(y_true, y_pred):\n",
        "  tp, tn, fp, fn = confusion_metrics(y_true, y_pred)\n",
        "  return tp /(tp + fn)\n",
        "\n",
        "\n",
        "for i in thresholds:\n",
        "  temp_prediction = [1 if x>= i else 0 for x in y_pred]\n",
        "\n",
        "  p = precision(y_true, temp_prediction)\n",
        "  r = recall(y_true, temp_prediction)\n",
        "\n",
        "  precisions.append(p)\n",
        "  recalls.append(r)\n",
        "\n",
        "\n",
        "import matplotlib.pyplot as plt\n",
        "plt.figure(figsize=(7, 7))\n",
        "plt.plot(recalls, precisions)\n",
        "plt.xlabel('Recall')\n",
        "plt.ylabel('Precision');"
      ],
      "metadata": {
        "id": "n7c_oU4L67cD",
        "outputId": "35f4dad4-2f4c-423a-f656-ccc36139b752",
        "colab": {
          "base_uri": "https://localhost:8080/",
          "height": 442
        }
      },
      "execution_count": 21,
      "outputs": [
        {
          "output_type": "display_data",
          "data": {
            "image/png": "[encoded data removed]",
            "text/plain": [
              "<Figure size 504x504 with 1 Axes>"
            ]
          },
          "metadata": {
            "needs_background": "light"
          }
        }
      ]
    },
    {
      "cell_type": "markdown",
      "source": [
        "- challenge to choose the value of threshold\n",
        "  - low: \n",
        "    - more postive values\n",
        "    - less false positive\n",
        "    - high precision\n",
        "    - low recall\n",
        "  - high:\n",
        "    - less false negative\n",
        "    - low precision\n",
        "    - high recall\n",
        "\n",
        "## F1 Score\n",
        "- F1 = 2PR/(P+R)"
      ],
      "metadata": {
        "id": "y_Zu1ws5Tj87"
      }
    },
    {
      "cell_type": "markdown",
      "source": [
        "- TPR (True positive rate)\n",
        "- sensitivity (also called)\n",
        "  - TPR = TP / (TP+FN)\n",
        "\n",
        "- FPR (False Positive Rate)\n",
        "  - FPR = FP/(TN+FP)\n",
        "  - 1 - FPR is the true negative rate\n",
        "\n",
        "- TPR and FPR are important"
      ],
      "metadata": {
        "id": "U_C4pwfBqkun"
      }
    },
    {
      "cell_type": "code",
      "source": [
        "y_true = [\n",
        "    0, 0, 0, 0, 1, 0, 1, 0, 0, 1, 0, 1, 0, 0, 1      \n",
        "]\n",
        "\n",
        "y_pred = [\n",
        "    0.1, 0.3, 0.2, 0.6, 0.8, 0.05, 0.9, 0.5, 0.3, \n",
        "    0.66, 0.3, 0.2, 0.85, 0.15, 0.99        \n",
        "]\n",
        "\n",
        "from sklearn import metrics\n",
        "\n",
        "metrics.roc_auc_score(y_true, y_pred)"
      ],
      "metadata": {
        "id": "EDxJ__NnFMvD",
        "outputId": "a57c56a9-6ec8-4662-d20f-d84fb06fccfa",
        "colab": {
          "base_uri": "https://localhost:8080/"
        }
      },
      "execution_count": 23,
      "outputs": [
        {
          "output_type": "execute_result",
          "data": {
            "text/plain": [
              "0.8300000000000001"
            ]
          },
          "metadata": {},
          "execution_count": 23
        }
      ]
    },
    {
      "cell_type": "markdown",
      "source": [
        "- AUC between 0 and 1\n",
        "  - AUC = 1, perfect model\n",
        "    - most of the time made mistake with validation\n",
        "\n",
        "  - AUC = 0\n",
        "    - bad model\n",
        "    - invert the prob, you have the perfect model, you may have the inverted class\n",
        "\n",
        "  - AUC = 0.5\n",
        "    - mode is perfect random\n",
        "\n",
        "\n",
        "- What is AUC?\n",
        "  - Suppose you get an AUC of 0.85 when you build a model to detect pneumothorax\n",
        "from chest x-ray images. This means that if you select a random image from your\n",
        "dataset with pneumothorax (positive sample) and another random image without\n",
        "pneumothorax (negative sample), then the pneumothorax image will rank higher\n",
        "than a non-pneumothorax image with a probability of 0.85."
      ],
      "metadata": {
        "id": "HlgHCow0wp0F"
      }
    },
    {
      "cell_type": "code",
      "source": [
        "def true_positive(y_true, y_pred):\n",
        "  \n",
        "\n",
        "threshold = [i/10 for i in range(1, 11, 1)]\n",
        "\n",
        "tps = []\n",
        "fps = []\n",
        "\n",
        "for t in threshold:\n",
        "  tep_pred = [1 if i >= t else 0 for i in y_pred]\n",
        "\n",
        "  temp_tp = true_postitive(y_true, temp_pred)\n",
        "  temp_fp = false_positive(y_true, temp_pred)\n",
        "\n",
        "  tps.append(temp_tp)\n",
        "  fps.append(temp_fp)"
      ],
      "metadata": {
        "id": "Odtsh3IywbL2"
      },
      "execution_count": 27,
      "outputs": []
    },
    {
      "cell_type": "code",
      "source": [
        "threshold"
      ],
      "metadata": {
        "id": "aVgeCs2sztl2",
        "outputId": "a769d383-f915-44b9-abdd-e34d745b6a79",
        "colab": {
          "base_uri": "https://localhost:8080/"
        }
      },
      "execution_count": 28,
      "outputs": [
        {
          "output_type": "execute_result",
          "data": {
            "text/plain": [
              "[0.1, 0.2, 0.3, 0.4, 0.5, 0.6, 0.7, 0.8, 0.9, 1.0]"
            ]
          },
          "metadata": {},
          "execution_count": 28
        }
      ]
    },
    {
      "cell_type": "code",
      "source": [
        ""
      ],
      "metadata": {
        "id": "-2sYexNGz0Bt"
      },
      "execution_count": null,
      "outputs": []
    }
  ]
}