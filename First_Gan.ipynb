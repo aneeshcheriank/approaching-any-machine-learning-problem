{
  "nbformat": 4,
  "nbformat_minor": 0,
  "metadata": {
    "colab": {
      "name": "First Gan.ipynb",
      "provenance": [],
      "collapsed_sections": [],
      "authorship_tag": "ABX9TyMjQfr8hK9sLIsY4RHvcfII",
      "include_colab_link": true
    },
    "kernelspec": {
      "name": "python3",
      "display_name": "Python 3"
    },
    "language_info": {
      "name": "python"
    }
  },
  "cells": [
    {
      "cell_type": "markdown",
      "metadata": {
        "id": "view-in-github",
        "colab_type": "text"
      },
      "source": [
        "<a href=\"https://colab.research.google.com/github/aneeshcheriank/approaching-any-machine-learning-problem/blob/main/First_Gan.ipynb\" target=\"_parent\"><img src=\"https://colab.research.google.com/assets/colab-badge.svg\" alt=\"Open In Colab\"/></a>"
      ]
    },
    {
      "cell_type": "code",
      "execution_count": 1,
      "metadata": {
        "id": "JaVlANq0PXua"
      },
      "outputs": [],
      "source": [
        "import tensorflow as tf\n",
        "import tensorflow.keras as keras\n",
        "\n",
        "from tensorflow.keras.datasets import mnist\n",
        "from tensorflow.keras.models import Sequential\n",
        "from tensorflow.keras.layers import Conv2D, BatchNormalization, LeakyReLU, MaxPooling2D\n",
        "from tensorflow.keras.layers import Dense, Flatten, Conv2DTranspose, Reshape\n",
        "\n",
        "from tqdm import tqdm\n",
        "import matplotlib.pyplot as plt"
      ]
    },
    {
      "cell_type": "code",
      "source": [
        "BUFFER = 1024\n",
        "BATCH = 256\n",
        "EPOCHS = 10"
      ],
      "metadata": {
        "id": "FuLEX3R-xPv-"
      },
      "execution_count": 3,
      "outputs": []
    },
    {
      "cell_type": "code",
      "source": [
        "# data loader\n",
        "(x_train, y_train), (x_test, y_test) = mnist.load_data()\n",
        "\n",
        "x_train = (x_train/255.).reshape((-1, 28, 28, 1))\n",
        "\n",
        "train_data = tf.data.Dataset.from_tensor_slices((x_train, y_train))\\\n",
        ".shuffle(BUFFER)\\\n",
        ".batch(BATCH)\n",
        "\n",
        "x, y = iter(train_data).next()\n",
        "print(x.shape)\n",
        "print(y.shape)"
      ],
      "metadata": {
        "colab": {
          "base_uri": "https://localhost:8080/"
        },
        "id": "qLNZ74lSv3zs",
        "outputId": "91de8a50-f19c-4f98-a2a4-08823074a2f5"
      },
      "execution_count": 19,
      "outputs": [
        {
          "output_type": "stream",
          "name": "stdout",
          "text": [
            "Downloading data from https://storage.googleapis.com/tensorflow/tf-keras-datasets/mnist.npz\n",
            "11493376/11490434 [==============================] - 0s 0us/step\n",
            "11501568/11490434 [==============================] - 0s 0us/step\n",
            "(256, 28, 28, 1)\n",
            "(256,)\n"
          ]
        }
      ]
    },
    {
      "cell_type": "code",
      "source": [
        "# models\n",
        "generator = Sequential([\n",
        "        Dense(16, kernel_initializer='he_normal', use_bias = False, input_dim=(8)), \n",
        "        Reshape((4, 4, 1)),               \n",
        "        Conv2DTranspose(8, (2, 2), strides=(2, 2), kernel_initializer='he_normal'),  \n",
        "        BatchNormalization(),\n",
        "        LeakyReLU(alpha=0.5),\n",
        "        Conv2DTranspose(8, (2, 2), strides=(2, 2), kernel_initializer='he_normal'),  \n",
        "        BatchNormalization(),\n",
        "        LeakyReLU(alpha=0.5),\n",
        "        Conv2DTranspose(8, (2, 2), strides=(2, 2), kernel_initializer='he_normal'),  \n",
        "        BatchNormalization(),\n",
        "        LeakyReLU(alpha=0.5),\n",
        "        Conv2D(1, (5, 5), activation='tanh')            \n",
        "])\n",
        "\n",
        "discriminator = Sequential([\n",
        "        Conv2D(16, (2, 2), kernel_initializer='he_normal', input_shape=(28, 28, 1)),\n",
        "        BatchNormalization(),\n",
        "        LeakyReLU(alpha=0.5),\n",
        "        MaxPooling2D((2, 2)),\n",
        "        Conv2D(16, (2, 2), kernel_initializer='he_normal'),\n",
        "        BatchNormalization(),\n",
        "        LeakyReLU(alpha=0.5),\n",
        "        MaxPooling2D((2, 2)),\n",
        "        Conv2D(16, (2, 2), kernel_initializer='he_normal'),\n",
        "        BatchNormalization(),\n",
        "        LeakyReLU(alpha=0.5),\n",
        "        MaxPooling2D((2, 2)),\n",
        "        Flatten(),\n",
        "        Dense(128, kernel_initializer='he_normal'),\n",
        "        LeakyReLU(alpha=0.5),\n",
        "        Dense(1, activation='softmax')\n",
        "])\n",
        "\n",
        "gan = Sequential([\n",
        "       generator, discriminator           \n",
        "])"
      ],
      "metadata": {
        "id": "J7o04yyfwjO-"
      },
      "execution_count": 16,
      "outputs": []
    },
    {
      "cell_type": "code",
      "source": [
        "optimizer = tf.keras.optimizers.Adam(learning_rate=0.0001, beta_1=0.5)\n",
        "loss = tf.keras.losses.BinaryCrossentropy() \n",
        "\n",
        "gan_loss = []\n",
        "dis_loss = []\n",
        "# training loop\n",
        "for epoch in range(EPOCHS):\n",
        "  d_loss = 0\n",
        "  g_loss = 0\n",
        "  for real_image, _ in tqdm(train_data):\n",
        "    batch_size = real_image.shape[0]\n",
        "    noise = tf.random.normal((batch_size, 8))\n",
        "\n",
        "    fake_images = tf.cast(generator(noise), dtype=tf.float64)\n",
        "    train_batch = tf.concat([real_image, fake_images], axis=0)\n",
        "    labels = tf.concat(\n",
        "        [[[0.]]*batch_size + [[1.]]*batch_size], axis=0\n",
        "    )\n",
        "\n",
        "    # set the discirminator as trainable\n",
        "    discriminator.trainable = True\n",
        "\n",
        "    # calculate gradients and update weights\n",
        "    with tf.GradientTape() as t:\n",
        "      # predict the labels\n",
        "      pred = discriminator(train_batch)\n",
        "      l = loss(labels, pred)\n",
        "\n",
        "      gradients = t.gradient(l, discriminator.trainable_weights) \n",
        "      optimizer.apply_gradients(\n",
        "          zip(gradients, discriminator.trainable_weights)\n",
        "      )\n",
        "    \n",
        "    # RMS of the loss\n",
        "    d_loss += tf.math.reduce_mean(l)\n",
        "\n",
        "    # set the discirminator as not trainable\n",
        "    discriminator.trainable = False\n",
        "\n",
        "    noise = tf.random.normal((batch_size*2, 8))\n",
        "    labels = tf.constant([[0.]]*(2*batch_size), dtype=tf.float32)\n",
        "\n",
        "    with tf.GradientTape() as t:\n",
        "      pred = gan(noise)\n",
        "      l = loss(labels, pred)\n",
        "\n",
        "      gradients = t.gradient(l, gan.trainable_weights) \n",
        "      optimizer.apply_gradients(\n",
        "          zip(gradients, gan.trainable_weights)\n",
        "      )\n",
        "\n",
        "    # RMS of the loss\n",
        "    g_loss += tf.math.reduce_mean(l)\n",
        "  \n",
        "  gan_loss.append(g_loss.numpy())\n",
        "  dis_loss.append(d_loss.numpy())\n",
        "  if (epoch+1)%2 == 0:\n",
        "    print(f'Epoch {epoch+1}/{EPOCHS}, dis loss {d_loss.numpy():.4f}, gan loss = {g_loss.numpy():.4f}')\n",
        "\n",
        "print('discirminator_loss')\n",
        "print(dis_loss)\n",
        "print('gan_loss')\n",
        "print(gan_loss)"
      ],
      "metadata": {
        "colab": {
          "base_uri": "https://localhost:8080/"
        },
        "id": "v6DEPsx3ui8T",
        "outputId": "227ae853-e20e-4987-9a7c-63dc2dd65270"
      },
      "execution_count": 34,
      "outputs": [
        {
          "output_type": "stream",
          "name": "stderr",
          "text": [
            "100%|██████████| 235/235 [04:20<00:00,  1.11s/it]\n",
            "100%|██████████| 235/235 [04:22<00:00,  1.11s/it]\n"
          ]
        },
        {
          "output_type": "stream",
          "name": "stdout",
          "text": [
            "Epoch 2/10, dis loss 2.044924020767212, gan loss = 2126.35546875\n"
          ]
        },
        {
          "output_type": "stream",
          "name": "stderr",
          "text": [
            "100%|██████████| 235/235 [04:19<00:00,  1.11s/it]\n",
            "100%|██████████| 235/235 [04:19<00:00,  1.11s/it]\n"
          ]
        },
        {
          "output_type": "stream",
          "name": "stdout",
          "text": [
            "Epoch 4/10, dis loss 3.000990867614746, gan loss = 2079.308837890625\n"
          ]
        },
        {
          "output_type": "stream",
          "name": "stderr",
          "text": [
            "100%|██████████| 235/235 [04:18<00:00,  1.10s/it]\n",
            "100%|██████████| 235/235 [04:22<00:00,  1.11s/it]\n"
          ]
        },
        {
          "output_type": "stream",
          "name": "stdout",
          "text": [
            "Epoch 6/10, dis loss 2.4166922569274902, gan loss = 2097.734619140625\n"
          ]
        },
        {
          "output_type": "stream",
          "name": "stderr",
          "text": [
            "100%|██████████| 235/235 [04:27<00:00,  1.14s/it]\n",
            "100%|██████████| 235/235 [04:18<00:00,  1.10s/it]\n"
          ]
        },
        {
          "output_type": "stream",
          "name": "stdout",
          "text": [
            "Epoch 8/10, dis loss 2.530951738357544, gan loss = 2220.668212890625\n"
          ]
        },
        {
          "output_type": "stream",
          "name": "stderr",
          "text": [
            "100%|██████████| 235/235 [04:22<00:00,  1.11s/it]\n",
            "100%|██████████| 235/235 [04:22<00:00,  1.12s/it]"
          ]
        },
        {
          "output_type": "stream",
          "name": "stdout",
          "text": [
            "Epoch 10/10, dis loss 1.4921554327011108, gan loss = 2279.336669921875\n",
            "discirminator_loss\n",
            "[2.9921033, 2.044924, 2.877721, 3.0009909, 2.2605298, 2.4166923, 2.5833619, 2.5309517, 1.6626145, 1.4921554]\n",
            "gan_loss\n",
            "[2151.0876, 2126.3555, 2110.291, 2079.3088, 2127.4287, 2097.7346, 2134.46, 2220.6682, 2237.9507, 2279.3367]\n"
          ]
        },
        {
          "output_type": "stream",
          "name": "stderr",
          "text": [
            "\n"
          ]
        }
      ]
    },
    {
      "cell_type": "code",
      "source": [
        "noise = tf.random.normal((1, 8), dtype=tf.float32)\n",
        "image = generator(noise)\n",
        "\n",
        "plt.figure(figsize=(8, 8))\n",
        "plt.imshow(image)\n",
        "plt.show()"
      ],
      "metadata": {
        "colab": {
          "base_uri": "https://localhost:8080/"
        },
        "id": "z8aHcMEws0P7",
        "outputId": "3c7ab116-3192-4777-f011-833443f8b2b1"
      },
      "execution_count": 25,
      "outputs": [
        {
          "output_type": "execute_result",
          "data": {
            "text/plain": [
              "tf.float32"
            ]
          },
          "metadata": {},
          "execution_count": 25
        }
      ]
    },
    {
      "cell_type": "code",
      "source": [
        ""
      ],
      "metadata": {
        "id": "Bjeg20YGvhe4"
      },
      "execution_count": null,
      "outputs": []
    }
  ]
}