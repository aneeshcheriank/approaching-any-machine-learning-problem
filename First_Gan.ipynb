{
  "nbformat": 4,
  "nbformat_minor": 0,
  "metadata": {
    "colab": {
      "name": "First Gan.ipynb",
      "provenance": [],
      "collapsed_sections": [],
      "authorship_tag": "ABX9TyNyVARm+WPMsqS4+PuI5ATA",
      "include_colab_link": true
    },
    "kernelspec": {
      "name": "python3",
      "display_name": "Python 3"
    },
    "language_info": {
      "name": "python"
    }
  },
  "cells": [
    {
      "cell_type": "markdown",
      "metadata": {
        "id": "view-in-github",
        "colab_type": "text"
      },
      "source": [
        "<a href=\"https://colab.research.google.com/github/aneeshcheriank/approaching-any-machine-learning-problem/blob/main/First_Gan.ipynb\" target=\"_parent\"><img src=\"https://colab.research.google.com/assets/colab-badge.svg\" alt=\"Open In Colab\"/></a>"
      ]
    },
    {
      "cell_type": "code",
      "execution_count": 1,
      "metadata": {
        "id": "JaVlANq0PXua"
      },
      "outputs": [],
      "source": [
        "import tensorflow as tf\n",
        "import tensorflow.keras as keras\n",
        "\n",
        "from tensorflow.keras.datasets import mnist\n",
        "from tensorflow.keras.models import Sequential\n",
        "from tensorflow.keras.layers import Conv2D, BatchNormalization, LeakyReLU, MaxPooling2D\n",
        "from tensorflow.keras.layers import Dense, Flatten, Conv2DTranspose, Reshape\n",
        "\n",
        "from tqdm import tqdm"
      ]
    },
    {
      "cell_type": "code",
      "source": [
        "BUFFER = 1024\n",
        "BATCH = 256\n",
        "EPOCHS = 10"
      ],
      "metadata": {
        "id": "FuLEX3R-xPv-"
      },
      "execution_count": 3,
      "outputs": []
    },
    {
      "cell_type": "code",
      "source": [
        "# data loader\n",
        "(x_train, y_train), (x_test, y_test) = mnist.load_data()\n",
        "\n",
        "x_train = (x_train/255.).reshape((-1, 28, 28, 1))\n",
        "\n",
        "train_data = tf.data.Dataset.from_tensor_slices((x_train, y_train))\\\n",
        ".shuffle(BUFFER)\\\n",
        ".batch(BATCH)\n",
        "\n",
        "x, y = iter(train_data).next()\n",
        "print(x.shape)\n",
        "print(y.shape)"
      ],
      "metadata": {
        "colab": {
          "base_uri": "https://localhost:8080/"
        },
        "id": "qLNZ74lSv3zs",
        "outputId": "9f05aa52-8ad8-4c92-9e28-0a9fb1f45734"
      },
      "execution_count": 8,
      "outputs": [
        {
          "output_type": "stream",
          "name": "stdout",
          "text": [
            "(256, 28, 28, 1)\n",
            "(256,)\n"
          ]
        }
      ]
    },
    {
      "cell_type": "code",
      "source": [
        "# models\n",
        "generator = Sequential([\n",
        "        Dense(8, kernel_initializer='he_normal', input_dim=(8)), \n",
        "        Reshape((4, 4, 1)),               \n",
        "        Conv2DTranspose(8, (2, 2), strides=(2, 2), kernel_initializer='he_normal'),  \n",
        "        BatchNormalization(),\n",
        "        LeakyReLU(alpha=0.5),\n",
        "        Conv2DTranspose(8, (2, 2), strides=(2, 2), kernel_initializer='he_normal'),  \n",
        "        BatchNormalization(),\n",
        "        LeakyReLU(alpha=0.5),\n",
        "        Conv2DTranspose(8, (2, 2), strides=(2, 2), kernel_initializer='he_normal'),  \n",
        "        BatchNormalization(),\n",
        "        LeakyReLU(alpha=0.5),\n",
        "        Conv2D(1, (5, 5), activation='tanh')              \n",
        "])\n",
        "\n",
        "discriminator = Sequential([\n",
        "        Conv2D(16, (2, 2), kernel_initializer='he_normal', input_size=(28, 28, 1)),\n",
        "        BatchNormalization(),\n",
        "        LeakyReLU(alpha=0.5),\n",
        "        MaxPooling2D((2, 2)),\n",
        "        Conv2D(16, (2, 2), kernel_initializer='he_normal'),\n",
        "        BatchNormalization(),\n",
        "        LeakyReLU(alpha=0.5),\n",
        "        MaxPooling2D((2, 2)),\n",
        "        Conv2D(16, (2, 2), kernel_initializer='he_normal'),\n",
        "        BatchNormalization(),\n",
        "        LeakyReLU(alpha=0.5),\n",
        "        MaxPooling2D((2, 2)),\n",
        "        Flatten(),\n",
        "        Dense(128, kernel_initializer='he_normal'),\n",
        "        LeakyReLU(alpha=0.5),\n",
        "        Dense(1, activation='softmax')\n",
        "])\n",
        "\n",
        "gan = Sequential([\n",
        "       generator, discriminator           \n",
        "])"
      ],
      "metadata": {
        "colab": {
          "base_uri": "https://localhost:8080/",
          "height": 798
        },
        "id": "J7o04yyfwjO-",
        "outputId": "f787c1df-4cb0-43eb-bbfb-70e9917737ca"
      },
      "execution_count": 8,
      "outputs": [
        {
          "output_type": "error",
          "ename": "ValueError",
          "evalue": "ignored",
          "traceback": [
            "\u001b[0;31m---------------------------------------------------------------------------\u001b[0m",
            "\u001b[0;31mValueError\u001b[0m                                Traceback (most recent call last)",
            "\u001b[0;32m<ipython-input-8-adf9c0a151ec>\u001b[0m in \u001b[0;36m<module>\u001b[0;34m()\u001b[0m\n\u001b[1;32m     12\u001b[0m         \u001b[0mBatchNormalization\u001b[0m\u001b[0;34m(\u001b[0m\u001b[0;34m)\u001b[0m\u001b[0;34m,\u001b[0m\u001b[0;34m\u001b[0m\u001b[0;34m\u001b[0m\u001b[0m\n\u001b[1;32m     13\u001b[0m         \u001b[0mLeakyReLU\u001b[0m\u001b[0;34m(\u001b[0m\u001b[0malpha\u001b[0m\u001b[0;34m=\u001b[0m\u001b[0;36m0.5\u001b[0m\u001b[0;34m)\u001b[0m\u001b[0;34m,\u001b[0m\u001b[0;34m\u001b[0m\u001b[0;34m\u001b[0m\u001b[0m\n\u001b[0;32m---> 14\u001b[0;31m         \u001b[0mConv2D\u001b[0m\u001b[0;34m(\u001b[0m\u001b[0;36m1\u001b[0m\u001b[0;34m,\u001b[0m \u001b[0;34m(\u001b[0m\u001b[0;36m5\u001b[0m\u001b[0;34m,\u001b[0m \u001b[0;36m5\u001b[0m\u001b[0;34m)\u001b[0m\u001b[0;34m,\u001b[0m \u001b[0mactivation\u001b[0m\u001b[0;34m=\u001b[0m\u001b[0;34m'tanh'\u001b[0m\u001b[0;34m)\u001b[0m\u001b[0;34m\u001b[0m\u001b[0;34m\u001b[0m\u001b[0m\n\u001b[0m\u001b[1;32m     15\u001b[0m ])\n\u001b[1;32m     16\u001b[0m \u001b[0;34m\u001b[0m\u001b[0m\n",
            "\u001b[0;32m/usr/local/lib/python3.7/dist-packages/tensorflow/python/training/tracking/base.py\u001b[0m in \u001b[0;36m_method_wrapper\u001b[0;34m(self, *args, **kwargs)\u001b[0m\n\u001b[1;32m    528\u001b[0m     \u001b[0mself\u001b[0m\u001b[0;34m.\u001b[0m\u001b[0m_self_setattr_tracking\u001b[0m \u001b[0;34m=\u001b[0m \u001b[0;32mFalse\u001b[0m  \u001b[0;31m# pylint: disable=protected-access\u001b[0m\u001b[0;34m\u001b[0m\u001b[0;34m\u001b[0m\u001b[0m\n\u001b[1;32m    529\u001b[0m     \u001b[0;32mtry\u001b[0m\u001b[0;34m:\u001b[0m\u001b[0;34m\u001b[0m\u001b[0;34m\u001b[0m\u001b[0m\n\u001b[0;32m--> 530\u001b[0;31m       \u001b[0mresult\u001b[0m \u001b[0;34m=\u001b[0m \u001b[0mmethod\u001b[0m\u001b[0;34m(\u001b[0m\u001b[0mself\u001b[0m\u001b[0;34m,\u001b[0m \u001b[0;34m*\u001b[0m\u001b[0margs\u001b[0m\u001b[0;34m,\u001b[0m \u001b[0;34m**\u001b[0m\u001b[0mkwargs\u001b[0m\u001b[0;34m)\u001b[0m\u001b[0;34m\u001b[0m\u001b[0;34m\u001b[0m\u001b[0m\n\u001b[0m\u001b[1;32m    531\u001b[0m     \u001b[0;32mfinally\u001b[0m\u001b[0;34m:\u001b[0m\u001b[0;34m\u001b[0m\u001b[0;34m\u001b[0m\u001b[0m\n\u001b[1;32m    532\u001b[0m       \u001b[0mself\u001b[0m\u001b[0;34m.\u001b[0m\u001b[0m_self_setattr_tracking\u001b[0m \u001b[0;34m=\u001b[0m \u001b[0mprevious_value\u001b[0m  \u001b[0;31m# pylint: disable=protected-access\u001b[0m\u001b[0;34m\u001b[0m\u001b[0;34m\u001b[0m\u001b[0m\n",
            "\u001b[0;32m/usr/local/lib/python3.7/dist-packages/keras/utils/traceback_utils.py\u001b[0m in \u001b[0;36merror_handler\u001b[0;34m(*args, **kwargs)\u001b[0m\n\u001b[1;32m     65\u001b[0m     \u001b[0;32mexcept\u001b[0m \u001b[0mException\u001b[0m \u001b[0;32mas\u001b[0m \u001b[0me\u001b[0m\u001b[0;34m:\u001b[0m  \u001b[0;31m# pylint: disable=broad-except\u001b[0m\u001b[0;34m\u001b[0m\u001b[0;34m\u001b[0m\u001b[0m\n\u001b[1;32m     66\u001b[0m       \u001b[0mfiltered_tb\u001b[0m \u001b[0;34m=\u001b[0m \u001b[0m_process_traceback_frames\u001b[0m\u001b[0;34m(\u001b[0m\u001b[0me\u001b[0m\u001b[0;34m.\u001b[0m\u001b[0m__traceback__\u001b[0m\u001b[0;34m)\u001b[0m\u001b[0;34m\u001b[0m\u001b[0;34m\u001b[0m\u001b[0m\n\u001b[0;32m---> 67\u001b[0;31m       \u001b[0;32mraise\u001b[0m \u001b[0me\u001b[0m\u001b[0;34m.\u001b[0m\u001b[0mwith_traceback\u001b[0m\u001b[0;34m(\u001b[0m\u001b[0mfiltered_tb\u001b[0m\u001b[0;34m)\u001b[0m \u001b[0;32mfrom\u001b[0m \u001b[0;32mNone\u001b[0m\u001b[0;34m\u001b[0m\u001b[0;34m\u001b[0m\u001b[0m\n\u001b[0m\u001b[1;32m     68\u001b[0m     \u001b[0;32mfinally\u001b[0m\u001b[0;34m:\u001b[0m\u001b[0;34m\u001b[0m\u001b[0;34m\u001b[0m\u001b[0m\n\u001b[1;32m     69\u001b[0m       \u001b[0;32mdel\u001b[0m \u001b[0mfiltered_tb\u001b[0m\u001b[0;34m\u001b[0m\u001b[0;34m\u001b[0m\u001b[0m\n",
            "\u001b[0;32m/usr/local/lib/python3.7/dist-packages/keras/layers/core/reshape.py\u001b[0m in \u001b[0;36m_fix_unknown_dimension\u001b[0;34m(self, input_shape, output_shape)\u001b[0m\n\u001b[1;32m    108\u001b[0m       \u001b[0moutput_shape\u001b[0m\u001b[0;34m[\u001b[0m\u001b[0munknown\u001b[0m\u001b[0;34m]\u001b[0m \u001b[0;34m=\u001b[0m \u001b[0moriginal\u001b[0m \u001b[0;34m//\u001b[0m \u001b[0mknown\u001b[0m\u001b[0;34m\u001b[0m\u001b[0;34m\u001b[0m\u001b[0m\n\u001b[1;32m    109\u001b[0m     \u001b[0;32melif\u001b[0m \u001b[0moriginal\u001b[0m \u001b[0;34m!=\u001b[0m \u001b[0mknown\u001b[0m\u001b[0;34m:\u001b[0m\u001b[0;34m\u001b[0m\u001b[0;34m\u001b[0m\u001b[0m\n\u001b[0;32m--> 110\u001b[0;31m       \u001b[0;32mraise\u001b[0m \u001b[0mValueError\u001b[0m\u001b[0;34m(\u001b[0m\u001b[0mmsg\u001b[0m\u001b[0;34m)\u001b[0m\u001b[0;34m\u001b[0m\u001b[0;34m\u001b[0m\u001b[0m\n\u001b[0m\u001b[1;32m    111\u001b[0m     \u001b[0;32mreturn\u001b[0m \u001b[0moutput_shape\u001b[0m\u001b[0;34m\u001b[0m\u001b[0;34m\u001b[0m\u001b[0m\n\u001b[1;32m    112\u001b[0m \u001b[0;34m\u001b[0m\u001b[0m\n",
            "\u001b[0;31mValueError\u001b[0m: Exception encountered when calling layer \"reshape_4\" (type Reshape).\n\ntotal size of new array must be unchanged, input_shape = [8], output_shape = [4, 4, 1]\n\nCall arguments received:\n  • inputs=tf.Tensor(shape=(None, 8), dtype=float32)"
          ]
        }
      ]
    },
    {
      "cell_type": "code",
      "source": [
        "optimizer = tf.keras.optimizer.Adam(learning_rate=0.0001, beta_1=0.5)\n",
        "loss = tf.keras.losses.BinaryCrossentropy() \n",
        "\n",
        "gan_loss = []\n",
        "dis_loss = []\n",
        "# training loop\n",
        "for epoch in range(EPOCHS):\n",
        "  d_loss = 0\n",
        "  g_loss = 0\n",
        "  for real_image, _ in tqdm(train_data):\n",
        "    batch_size = x_batch.shape[0]\n",
        "    noise = tf.random.nomral((x_batch, 8))\n",
        "\n",
        "    fake_images = generator(noise)\n",
        "    train_batch = tf.concat([real_image, fake_image], axis=0)\n",
        "    labels = tf.concat(\n",
        "        [[[0.]]*batch_size + [[1.]]*batch_size], axis=0\n",
        "    )\n",
        "\n",
        "    # set the discirminator as trainable\n",
        "    discriminator.trainable = True\n",
        "\n",
        "    # calculate gradients and update weights\n",
        "    with tf.GradientTape() as t:\n",
        "      # predict the labels\n",
        "      pred = gan(train_batch)\n",
        "      l = loss(labels, pred)\n",
        "\n",
        "      gradients = t.gradient(l, gan.trainable_weights) \n",
        "      optimizer.apply_gradient(\n",
        "          zip(gradient, gan.trainable_weights)\n",
        "      )\n",
        "    \n",
        "    # RMS of the loss\n",
        "    g_loss += tf.sqrt(tf.math.reduce_mean(tf.math.square(loss2)))\n",
        "\n",
        "  if (epoch+1)%2 == 0:\n",
        "    print(f'Epoch {epoch+1}/{EPOCHS} gan loss = {g_loss}')\n",
        "\n",
        "  "
      ],
      "metadata": {
        "id": "v6DEPsx3ui8T"
      },
      "execution_count": null,
      "outputs": []
    }
  ]
}