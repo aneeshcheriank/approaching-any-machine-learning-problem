{
  "nbformat": 4,
  "nbformat_minor": 0,
  "metadata": {
    "colab": {
      "name": "First Gan.ipynb",
      "provenance": [],
      "collapsed_sections": [],
      "authorship_tag": "ABX9TyM92ckGTbn6u9I9SdM7rvZi",
      "include_colab_link": true
    },
    "kernelspec": {
      "name": "python3",
      "display_name": "Python 3"
    },
    "language_info": {
      "name": "python"
    }
  },
  "cells": [
    {
      "cell_type": "markdown",
      "metadata": {
        "id": "view-in-github",
        "colab_type": "text"
      },
      "source": [
        "<a href=\"https://colab.research.google.com/github/aneeshcheriank/approaching-any-machine-learning-problem/blob/main/First_Gan.ipynb\" target=\"_parent\"><img src=\"https://colab.research.google.com/assets/colab-badge.svg\" alt=\"Open In Colab\"/></a>"
      ]
    },
    {
      "cell_type": "code",
      "execution_count": 10,
      "metadata": {
        "id": "JaVlANq0PXua"
      },
      "outputs": [],
      "source": [
        "import tensorflow as tf\n",
        "import tensorflow.keras as keras\n",
        "\n",
        "from tensorflow.keras.datasets import mnist\n",
        "from tensorflow.keras.models import Sequential\n",
        "from tensorflow.keras.layers import Conv2D, BatchNormalization, LeakyReLU, MaxPooling2D\n",
        "from tensorflow.keras.layers import Dense, Flatten, Conv2DTranspose, Reshape"
      ]
    },
    {
      "cell_type": "code",
      "source": [
        "BUFFER = 1024\n",
        "BATCH = 256"
      ],
      "metadata": {
        "id": "FuLEX3R-xPv-"
      },
      "execution_count": 6,
      "outputs": []
    },
    {
      "cell_type": "code",
      "source": [
        "# data loader\n",
        "(x_train, y_train), (x_test, y_test) = mnist.load_data()\n",
        "\n",
        "x_train = (x_train/255.).reshape((-1, 28, 28, 1))\n",
        "\n",
        "train_data = tf.data.Dataset.from_tensor_slices((x_train, y_train))\\\n",
        ".shuffle(BUFFER)\\\n",
        ".batch(BATCH)\n",
        "\n",
        "x, y = iter(train_data).next()\n",
        "print(x.shape)\n",
        "print(y.shape)"
      ],
      "metadata": {
        "colab": {
          "base_uri": "https://localhost:8080/"
        },
        "id": "qLNZ74lSv3zs",
        "outputId": "9f05aa52-8ad8-4c92-9e28-0a9fb1f45734"
      },
      "execution_count": 8,
      "outputs": [
        {
          "output_type": "stream",
          "name": "stdout",
          "text": [
            "(256, 28, 28, 1)\n",
            "(256,)\n"
          ]
        }
      ]
    },
    {
      "cell_type": "code",
      "source": [
        "# models\n",
        "generator = Sequential([\n",
        "        Dense(8, kernel_initializer='he_normal', input_dim=(8)), \n",
        "        Reshape((4, 4)),               \n",
        "        Conv2DTranspose(8, (2, 2), stride=(2, 2), kernel_initializer='he_normal'),  \n",
        "        BatchNormalization(),\n",
        "        LeakyReLU(alpha=0.5),\n",
        "        Conv2DTranspose(8, (2, 2), stride=(2, 2), kernel_initializer='he_normal'),  \n",
        "        BatchNormalization(),\n",
        "        LeakyReLU(alpha=0.5),\n",
        "        Conv2DTranspose(8, (2, 2), stride=(2, 2), kernel_initializer='he_normal'),  \n",
        "        BatchNormalization(),\n",
        "        LeakyReLU(alpha=0.5),\n",
        "        Conv2D(1, (5, 5), activation='tanh')              \n",
        "])\n",
        "\n",
        "discriminator = Sequential([\n",
        "        Conv2D(16, (2, 2), kernel_initializer='he_normal', input_size=(28, 28, 1)),\n",
        "        BatchNormalization(),\n",
        "        LeakyReLU(alpha=0.5),\n",
        "        MaxPooling2D((2, 2)),\n",
        "        Conv2D(16, (2, 2), kernel_initializer='he_normal'),\n",
        "        BatchNormalization(),\n",
        "        LeakyReLU(alpha=0.5),\n",
        "        MaxPooling2D((2, 2)),\n",
        "        Conv2D(16, (2, 2), kernel_initializer='he_normal'),\n",
        "        BatchNormalization(),\n",
        "        LeakyReLU(alpha=0.5),\n",
        "        MaxPooling2D((2, 2)),\n",
        "        Flatten(),\n",
        "        Dense(128, kernel_initializer='he_normal'),\n",
        "        LeakyReLU(alpha=0.5),\n",
        "        Dense(1, activation='softmax')\n",
        "])\n",
        "\n",
        "gan = Sequential([\n",
        "       generator, discriminator           \n",
        "])"
      ],
      "metadata": {
        "id": "J7o04yyfwjO-"
      },
      "execution_count": null,
      "outputs": []
    },
    {
      "cell_type": "code",
      "source": [
        ""
      ],
      "metadata": {
        "id": "v6DEPsx3ui8T"
      },
      "execution_count": null,
      "outputs": []
    }
  ]
}