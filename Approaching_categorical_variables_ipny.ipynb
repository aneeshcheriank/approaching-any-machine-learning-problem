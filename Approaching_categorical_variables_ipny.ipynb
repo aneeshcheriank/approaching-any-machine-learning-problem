{
  "nbformat": 4,
  "nbformat_minor": 0,
  "metadata": {
    "colab": {
      "name": "Approaching categorical variables.ipny",
      "provenance": [],
      "authorship_tag": "ABX9TyNgqjRve9fZ/2DE68XJ8Lt0",
      "include_colab_link": true
    },
    "kernelspec": {
      "name": "python3",
      "display_name": "Python 3"
    },
    "language_info": {
      "name": "python"
    }
  },
  "cells": [
    {
      "cell_type": "markdown",
      "metadata": {
        "id": "view-in-github",
        "colab_type": "text"
      },
      "source": [
        "<a href=\"https://colab.research.google.com/github/aneeshcheriank/approaching-any-machine-learning-problem/blob/main/Approaching_categorical_variables_ipny.ipynb\" target=\"_parent\"><img src=\"https://colab.research.google.com/assets/colab-badge.svg\" alt=\"Open In Colab\"/></a>"
      ]
    },
    {
      "cell_type": "markdown",
      "source": [
        "- Categorical varible\n",
        "    - nominal\n",
        "        - any order associated with them\n",
        "        - eg: male & female\n",
        "    - ordinal\n",
        "        - levels or particular order associated with them\n",
        "        - low, medium and high\n",
        "    - binary: there are only 2 categories\n",
        "    - cyclic: some cyclical nature present in the variables\n",
        "        - eg: days of week (Sunday, Monday, Tuesday, Wednesday, Thursday, Friday, Saturday)"
      ],
      "metadata": {
        "id": "s6SRNm8SBwKB"
      }
    },
    {
      "cell_type": "markdown",
      "source": [
        "- dataset: cat-in-the-dat from categorical feature encoding challenge from Kaggle"
      ],
      "metadata": {
        "id": "Dk0qZnR1DIWf"
      }
    }
  ]
}