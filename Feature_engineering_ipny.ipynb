{
  "nbformat": 4,
  "nbformat_minor": 0,
  "metadata": {
    "colab": {
      "name": "Feature engineering.ipny",
      "provenance": [],
      "collapsed_sections": [],
      "authorship_tag": "ABX9TyNPE8ZTqKrKfTGyA2iLjbjr",
      "include_colab_link": true
    },
    "kernelspec": {
      "name": "python3",
      "display_name": "Python 3"
    },
    "language_info": {
      "name": "python"
    }
  },
  "cells": [
    {
      "cell_type": "markdown",
      "metadata": {
        "id": "view-in-github",
        "colab_type": "text"
      },
      "source": [
        "<a href=\"https://colab.research.google.com/github/aneeshcheriank/approaching-any-machine-learning-problem/blob/main/Feature_engineering_ipny.ipynb\" target=\"_parent\"><img src=\"https://colab.research.google.com/assets/colab-badge.svg\" alt=\"Open In Colab\"/></a>"
      ]
    },
    {
      "cell_type": "markdown",
      "source": [
        "# Feature Engineering\n",
        "- better features -> better model\n",
        "- domain knowledge -> better features\n",
        "- feature engineering\n",
        "    - creating features\n",
        "    - normalzations\n",
        "    - trasformations"
      ],
      "metadata": {
        "id": "OzgrDuFc-Q_B"
      }
    },
    {
      "cell_type": "markdown",
      "source": [
        "## In this chapter\n",
        "- combine categorical variables\n",
        "### convert categorical variables\n",
        "- count\n",
        "- target encoding\n",
        "- embeddings\n",
        "\n",
        "\n",
        "## Date field\n",
        "- Year\n",
        "- Week of year\n",
        "- Month\n",
        "- Day of week\n",
        "- Weekend\n",
        "- Hour\n",
        "- Many more\n",
        "\n",
        "- code <br>\n",
        "`\n",
        "df['year'] = df['datetime_column'].dt.year`\n",
        "\n",
        "`f['datetime_column'].dt.weekofyear`\n",
        "\n",
        "`df['datetime_column'].dt.moth`\n",
        "\n",
        "`df['datetime_column'].dt.dayofweek`\n",
        "\n",
        "`(df['datetime_column'].dt.weekday > 5).astype(int)`\n",
        "\n",
        "`df['datetime_column'].dt.hour\n",
        "`"
      ],
      "metadata": {
        "id": "nNwpg4yf_ZEC"
      }
    },
    {
      "cell_type": "code",
      "source": [
        "import pandas as pd\n",
        "\n",
        "# create a seres of datetime with a frequency of 10 hours\n",
        "s = pd.date_range('2020-01-06', '2020-01-10', freq='10H').to_series()\n",
        "\n",
        "# create some features based on datetime\n",
        "features = {\n",
        "    'dayofweek': s.dt.dayofweek.values,\n",
        "    'dayofyear':s.dt.dayofyear.values,\n",
        "    'hour':s.dt.hour.values, \n",
        "    'is_leap_year':s.dt.is_leap_year.values,\n",
        "    'quarter': s.dt.quarter.values,\n",
        "    'weekofyear':s.dt.weekofyear.values\n",
        "}\n",
        "\n",
        "features"
      ],
      "metadata": {
        "colab": {
          "base_uri": "https://localhost:8080/"
        },
        "id": "KVkMonfC_RiC",
        "outputId": "9b2e5db8-5a66-4bc7-9ba8-58c9c3b1c7da"
      },
      "execution_count": 5,
      "outputs": [
        {
          "output_type": "stream",
          "name": "stderr",
          "text": [
            "/usr/local/lib/python3.7/dist-packages/ipykernel_launcher.py:13: FutureWarning: Series.dt.weekofyear and Series.dt.week have been deprecated.  Please use Series.dt.isocalendar().week instead.\n",
            "  del sys.path[0]\n"
          ]
        },
        {
          "output_type": "execute_result",
          "data": {
            "text/plain": [
              "{'dayofweek': array([0, 0, 0, 1, 1, 2, 2, 2, 3, 3]),\n",
              " 'dayofyear': array([6, 6, 6, 7, 7, 8, 8, 8, 9, 9]),\n",
              " 'hour': array([ 0, 10, 20,  6, 16,  2, 12, 22,  8, 18]),\n",
              " 'is_leap_year': array([ True,  True,  True,  True,  True,  True,  True,  True,  True,\n",
              "         True]),\n",
              " 'quarter': array([1, 1, 1, 1, 1, 1, 1, 1, 1, 1]),\n",
              " 'weekofyear': array([2, 2, 2, 2, 2, 2, 2, 2, 2, 2])}"
            ]
          },
          "metadata": {},
          "execution_count": 5
        }
      ]
    }
  ]
}